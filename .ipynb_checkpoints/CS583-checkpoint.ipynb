{
 "cells": [
  {
   "cell_type": "markdown",
   "metadata": {},
   "source": [
    "Chord Recognition Algorithm\n",
    "\n",
    "Given a melody line, get the chromagraph and frequencies of the melody line pitches and create an accompanying chord prorgession"
   ]
  },
  {
   "cell_type": "code",
   "execution_count": null,
   "metadata": {},
   "outputs": [],
   "source": [
    "# General useful imports\n",
    "import numpy as np\n",
    "import matplotlib.pyplot as plt\n",
    "import librosa \n",
    "import librosa.display\n",
    "from IPython.display import Audio\n",
    "\n",
    "from scipy import signal\n",
    "\n",
    "%matplotlib inline\n",
    "\n",
    "\n",
    "# Basic audio parameters\n",
    "\n",
    "SR            = 22050                  #  sample rate default for Librosa\n",
    "\n",
    "# Utility functions\n",
    "\n",
    "# Round to 4 decimal places\n",
    "\n",
    "def round4(x):\n",
    "    return np.around(x,4)  "
   ]
  },
  {
   "cell_type": "markdown",
   "metadata": {},
   "source": [
    "Code to read melody file and create a chromagraph"
   ]
  },
  {
   "cell_type": "code",
   "execution_count": null,
   "metadata": {},
   "outputs": [],
   "source": [
    "def displaySignal(x,sr=SR,title='Signal X',):\n",
    "    plt.figure(figsize=(12,6))\n",
    "    plt.title(title)\n",
    "    #plt.ylim([-1.0,1.0])           # if you want the full range -1 .. 1, else will adapt to signal\n",
    "    plt.plot([0,librosa.get_duration(x)],[0,0],linewidth=1,color='k') # if you want a 0 line\n",
    "    plt.grid() # gridlines\n",
    "    librosa.display.waveshow(x,sr=sr)\n",
    "    plt.show()"
   ]
  },
  {
   "cell_type": "code",
   "execution_count": null,
   "metadata": {},
   "outputs": [],
   "source": [
    "# create a dictionary of piano key frequencies\n",
    "\n",
    "# see https://en.wikipedia.org/wiki/Piano_key_frequencies\n",
    "\n",
    "notenames = ['A0', 'Bb0', 'B0', 'C1', 'C#1', 'D1', 'Eb1', 'E1', 'F1', 'F#1', 'G1', 'Ab1', \n",
    "             'A1', 'Bb1', 'B1', 'C2', 'C#2', 'D2', 'Eb2', 'E2', 'F2', 'F#2', 'G2', 'Ab2', \n",
    "             'A2', 'Bb2', 'B2', 'C3', 'C#3', 'D3', 'Eb3', 'E3', 'F3', 'F#3', 'G3', 'Ab3', \n",
    "             'A3', 'Bb3', 'B3', 'C4', 'C#4', 'D4', 'Eb4', 'E4', 'F4', 'F#4', 'G4', 'Ab4', \n",
    "             'A4', 'Bb4', 'B4', 'C5', 'C#5', 'D5', 'Eb5', 'E5', 'F5', 'F#5', 'G5', 'Ab5',\n",
    "             'A5', 'Bb5', 'B5', 'C6', 'C#6', 'D6', 'Eb6', 'E6', 'F6', 'F#6', 'G6', 'Ab6', \n",
    "             'A6', 'Bb6', 'B6', 'C7', 'C#7', 'D7', 'Eb7', 'E7', 'F7', 'F#7', 'G7', 'Ab7', \n",
    "             'A7', 'Bb7', 'B7', 'C8', 'R']\n",
    "\n",
    "# Create chromatic scale, e.g., as on the piano, as a dictionary    \n",
    "\n",
    "Freqs = {} \n",
    "\n",
    "f = 27.5\n",
    "\n",
    "for name in notenames:\n",
    "    Freqs[name] = f\n",
    "    f *= 2**(1/12)\n",
    "\n",
    "Freqs['R'] = 0                    # a rest (silence) \n",
    "\n",
    "# test\n",
    "\n",
    "Freqs['C8']"
   ]
  },
  {
   "cell_type": "code",
   "execution_count": null,
   "metadata": {},
   "outputs": [],
   "source": [
    "y, sr = librosa.load(filename)\n",
    "stft = librosa.stft(y) # Short-Time Fourier Transform to represent a signal in the time-frequency domain\n",
    "\n",
    "s = np.abs(stft**2) # Get magnitude of stft\n",
    "chroma = librosa.feature.chroma_stft(S=s, sr=SR) # transforms sounds into numerical values\n",
    "chroma = np.cumsum(chroma) # transform data format\n",
    "\n",
    "    \n",
    "x = np.linspace(-chroma, chroma)\n",
    "plt.title(title)\n",
    "plt.plot(x, np.sin(x))\n",
    "plt.xlabel('Angle [rad]')\n",
    "plt.ylabel('sin(x)')\n",
    "plt.axis('tight')\n",
    "plt.show()\n",
    "\n",
    "\n",
    "chroma_orig = librosa.feature.chroma_cqt(y=y, sr=SR)\n",
    "\n",
    "# For display purposes, let's zoom in on a 15-second chunk from the middle of the song\n",
    "#idx = tuple([slice(None), slice(*list(librosa.time_to_frames([45, 60])))])\n",
    "\n",
    "    # And for comparison, we'll show the CQT matrix as well.\n",
    "    C = np.abs(librosa.cqt(y=y, sr=sr, bins_per_octave=12*3, n_bins=7*12*3))\n",
    "    fig, ax = plt.subplots(nrows=2, sharex=True)\n",
    "    img1 = librosa.display.specshow(librosa.amplitude_to_db(C, ref=np.max),\n",
    "                                    y_axis='cqt_note', x_axis='time', bins_per_octave=12*3,\n",
    "                                    ax=ax[0])\n",
    "\n",
    "    fig.colorbar(img1, ax=[ax[0]], format=\"%+2.f dB\")\n",
    "    ax[0].label_outer()\n",
    "    img2 = librosa.display.specshow(chroma_orig, y_axis='chroma', x_axis='time', ax=ax[1])\n",
    "    fig.colorbar(img2, ax=[ax[1]])\n",
    "    ax[1].set(ylabel='Default chroma')\n",
    "\n",
    "\n",
    "    x, sr = librosa.load(filename)\n",
    "\n",
    "    displaySignal(x, title=title)"
   ]
  }
 ],
 "metadata": {
  "kernelspec": {
   "display_name": "Python 3",
   "language": "python",
   "name": "python3"
  },
  "language_info": {
   "codemirror_mode": {
    "name": "ipython",
    "version": 3
   },
   "file_extension": ".py",
   "mimetype": "text/x-python",
   "name": "python",
   "nbconvert_exporter": "python",
   "pygments_lexer": "ipython3",
   "version": "3.8.5"
  }
 },
 "nbformat": 4,
 "nbformat_minor": 4
}
